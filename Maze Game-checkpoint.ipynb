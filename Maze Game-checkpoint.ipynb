{
 "cells": [
  {
   "cell_type": "markdown",
   "metadata": {},
   "source": [
    "Ankit is in maze. The command center sent him a string which decodes to come out from the maze. He is initially at (0, 0). String contains L, R, U, D denoting left, right, up and down. In each command he will traverse 1 unit distance in the respective direction.\n",
    "\n",
    "For example if he is at (2, 0) and the command is L he will go to (1, 0)."
   ]
  },
  {
   "cell_type": "code",
   "execution_count": null,
   "metadata": {},
   "outputs": [
    {
     "name": "stdout",
     "output_type": "stream",
     "text": [
      "Enter the command to move ankit further : l\n",
      "Ankit is here: -1 0\n",
      "Enter the command to move ankit further : r\n",
      "Ankit is here: 0 0\n",
      "Enter the command to move ankit further : \n",
      "Please enter the valid input: L,R,U,D\n",
      "Ankit is here: 0 0\n",
      "Enter the command to move ankit further : d\n",
      "Ankit is here: 0 -1\n",
      "Enter the command to move ankit further : u\n",
      "Ankit is here: 0 0\n",
      "Enter the command to move ankit further : a\n",
      "Please enter the valid input: L,R,U,D\n",
      "Ankit is here: 0 0\n"
     ]
    }
   ],
   "source": [
    "ankit_x = 0\n",
    "ankit_y = 0\n",
    "max_move = 0\n",
    "\n",
    "while(max_move<=7):\n",
    "        \n",
    "    command = input(\"Enter the command to move ankit further : \")\n",
    "    command.lower()\n",
    "    max_move+=1\n",
    "\n",
    "    if(command == 'l'):\n",
    "        ankit_x -= 1\n",
    "    elif (command == 'r'):\n",
    "        ankit_x += 1\n",
    "    elif (command == 'u'):\n",
    "        ankit_y += 1\n",
    "    elif (command == 'd'):\n",
    "        ankit_y -= 1\n",
    "    else:\n",
    "        print(\"Please enter the valid input: L,R,U,D\")\n",
    "    \n",
    "    print(\"Ankit is here:\", ankit_x, ankit_y)"
   ]
  },
  {
   "cell_type": "code",
   "execution_count": null,
   "metadata": {},
   "outputs": [],
   "source": []
  }
 ],
 "metadata": {
  "kernelspec": {
   "display_name": "Python 3",
   "language": "python",
   "name": "python3"
  },
  "language_info": {
   "codemirror_mode": {
    "name": "ipython",
    "version": 3
   },
   "file_extension": ".py",
   "mimetype": "text/x-python",
   "name": "python",
   "nbconvert_exporter": "python",
   "pygments_lexer": "ipython3",
   "version": "3.7.4"
  }
 },
 "nbformat": 4,
 "nbformat_minor": 2
}
