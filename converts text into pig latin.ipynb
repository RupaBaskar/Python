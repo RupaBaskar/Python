{
 "cells": [
  {
   "cell_type": "markdown",
   "metadata": {},
   "source": [
    "Write a program that converts text into pig latin. Pig latin works as follows:\n",
    "All letters before initial vowel are placed at the end of the word and then 'ay'\n",
    "is added (explanation adapted from Wikipedia), so pig becomes igpay, cat becomes\n",
    "atcay, potential becomes otentialpay etc."
   ]
  },
  {
   "cell_type": "code",
   "execution_count": 4,
   "metadata": {},
   "outputs": [
    {
     "name": "stdout",
     "output_type": "stream",
     "text": [
      "Enter the string you want to translate = positivity\n",
      "P is consonant\n",
      "Word in pig latin is ositivityPay\n"
     ]
    }
   ],
   "source": [
    "ay='ay'\n",
    "way='way'\n",
    "consonant=('B','C','D','F','G','H','J','K','L','M','N','P','Q','R','S','T','V','W','X','Y','Z')\n",
    "vowels=('A','E','I','O','U')\n",
    "user_input=str(input(\"Enter the string you want to translate = \"))\n",
    "first_letter=user_input[0].upper()\n",
    "\n",
    "if first_letter in consonant:\n",
    "    print(first_letter, \"is consonant\")\n",
    "    length_of_the_word=len(user_input)\n",
    "    remove_first_letter=user_input[1:]\n",
    "    pig_latin=remove_first_letter+first_letter+ay\n",
    "    print(\"Word in pig latin is\", pig_latin)\n",
    "    \n",
    "elif first_letter in vowels:\n",
    "    print(first_letter, \"is vowel\")\n",
    "    length_of_the_word=len(user_input)\n",
    "    print(\"Word in pig latin is\", user_input+way)\n",
    "else:\n",
    "    print(\"I don't know what\", first_letter,\"is\")\n",
    "        "
   ]
  },
  {
   "cell_type": "code",
   "execution_count": null,
   "metadata": {},
   "outputs": [],
   "source": [
    "\n"
   ]
  },
  {
   "cell_type": "code",
   "execution_count": null,
   "metadata": {},
   "outputs": [],
   "source": []
  }
 ],
 "metadata": {
  "kernelspec": {
   "display_name": "Python 3",
   "language": "python",
   "name": "python3"
  },
  "language_info": {
   "codemirror_mode": {
    "name": "ipython",
    "version": 3
   },
   "file_extension": ".py",
   "mimetype": "text/x-python",
   "name": "python",
   "nbconvert_exporter": "python",
   "pygments_lexer": "ipython3",
   "version": "3.7.4"
  }
 },
 "nbformat": 4,
 "nbformat_minor": 2
}
