{
 "cells": [
  {
   "cell_type": "code",
   "execution_count": 1,
   "metadata": {},
   "outputs": [
    {
     "name": "stdout",
     "output_type": "stream",
     "text": [
      "Enter the marks:65\n",
      "student  pass the exam\n",
      "Grade:D\n"
     ]
    }
   ],
   "source": [
    "#WAP for taking one number a input and then using if elif else concept, assign a grade to the input number from A,B,C,D,E, Fail: \n",
    "\n",
    "    \n",
    "marks=int(input(\"Enter the marks:\"))\n",
    "if marks>=90:\n",
    "    print(\"student pass the exam\")\n",
    "    print(\"Grade:A\")\n",
    "elif marks>=80:\n",
    "    print(\"student  pass the exam\")\n",
    "    print(\"Grade:B\")\n",
    "elif marks>=70:\n",
    "    print(\"student  pass the exam\")\n",
    "    print(\"Grade:C\")\n",
    "elif marks>=60:\n",
    "    print(\"student  pass the exam\")\n",
    "    print(\"Grade:D\")\n",
    "elif marks>=35:\n",
    "    print(\"student pass the exam\")\n",
    "    print(\"Grade:E\")\n",
    "else:\n",
    "    print(\"Fail\")\n",
    "    print(\"Need improvement\")"
   ]
  },
  {
   "cell_type": "code",
   "execution_count": null,
   "metadata": {},
   "outputs": [],
   "source": []
  }
 ],
 "metadata": {
  "kernelspec": {
   "display_name": "Python 3",
   "language": "python",
   "name": "python3"
  },
  "language_info": {
   "codemirror_mode": {
    "name": "ipython",
    "version": 3
   },
   "file_extension": ".py",
   "mimetype": "text/x-python",
   "name": "python",
   "nbconvert_exporter": "python",
   "pygments_lexer": "ipython3",
   "version": "3.7.4"
  }
 },
 "nbformat": 4,
 "nbformat_minor": 2
}
