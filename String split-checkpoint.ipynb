{
 "cells": [
  {
   "cell_type": "markdown",
   "metadata": {},
   "source": [
    "Write a program that requests five names separated by commas and create a\n",
    "list containing those names. Print your answer.\n",
    "For example James,Alison,Fred,Sally,Matthew\n",
    "should return ['James','Alison','Fred','Sally','Matthew']"
   ]
  },
  {
   "cell_type": "code",
   "execution_count": 1,
   "metadata": {},
   "outputs": [
    {
     "name": "stdout",
     "output_type": "stream",
     "text": [
      "Enter the comma separated names: James,Alison,Fred,Sally,Matthew\n",
      "\n",
      "Input string: James,Alison,Fred,Sally,Matthew\n",
      "\n",
      "Output list: ['James', 'Alison', 'Fred', 'Sally', 'Matthew']\n"
     ]
    }
   ],
   "source": [
    "str = str(input(\"Enter the comma separated names: \"))\n",
    "\n",
    "print(\"\\nInput string:\", str)\n",
    "\n",
    "list = str.split(\",\")\n",
    "\n",
    "print(\"\\nOutput list:\", list)"
   ]
  },
  {
   "cell_type": "code",
   "execution_count": null,
   "metadata": {},
   "outputs": [],
   "source": []
  }
 ],
 "metadata": {
  "kernelspec": {
   "display_name": "Python 3",
   "language": "python",
   "name": "python3"
  },
  "language_info": {
   "codemirror_mode": {
    "name": "ipython",
    "version": 3
   },
   "file_extension": ".py",
   "mimetype": "text/x-python",
   "name": "python",
   "nbconvert_exporter": "python",
   "pygments_lexer": "ipython3",
   "version": "3.7.4"
  }
 },
 "nbformat": 4,
 "nbformat_minor": 2
}
