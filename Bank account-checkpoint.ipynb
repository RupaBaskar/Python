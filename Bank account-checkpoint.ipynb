{
 "cells": [
  {
   "cell_type": "markdown",
   "metadata": {},
   "source": [
    "For this challenge, create bank account class that has two attributes and two methods:\n",
    "1 attributes:\n",
    "\n",
    "Owner\n",
    "\n",
    "balance\n",
    "\n",
    "2 methods:\n",
    "\n",
    "deposit\n",
    "\n",
    "withdraw\n",
    "\n",
    "As an added requirement, withdrawals may not exceed the available balance.\n",
    "\n",
    "Instantiate your class, make several deposits and withdrawals, and test to make sure the account can't be overdrawn."
   ]
  },
  {
   "cell_type": "code",
   "execution_count": 1,
   "metadata": {},
   "outputs": [
    {
     "output_type": "stream",
     "name": "stdout",
     "text": "Dev Account Transaction:\n\nYour account is debited for amount 600\nYour current balance is 600\n\nRupa Account Transaction:\n\nYour account is credit with amount:5000\nYour current balance is 7000\n\nDev Account Transaction:\n\nYour account is credit with amount:2000\nYour current balance is 2600\n\nRupa Account Transaction:\n\nYour account is debited for amount 2000\nYour current balance is 5000\n\n"
    }
   ],
   "source": [
    "class BankAccount:\n",
    "    def __init__(self, owner, balance = 1000):\n",
    "        self.owner = owner\n",
    "        self.balance = balance\n",
    "\n",
    "    def deposit(self,amount):\n",
    "        self.balance = self.balance + amount\n",
    "        print(self.owner + \" Account Transaction:\")\n",
    "        print(\"\\nYour account is credit with amount:\" + str(amount))\n",
    "        print(\"Your current balance is \" + str(self.balance) + '\\n')\n",
    "    \n",
    "    def withdraw(self,amount):\n",
    "        if(self.balance >= amount):\n",
    "            self.balance = self.balance - amount\n",
    "            print(self.owner + \" Account Transaction:\\n\")\n",
    "            print(\"Your account is debited for amount \" + str(amount))\n",
    "            print(\"Your current balance is \" + str(self.balance) + '\\n')\n",
    "\n",
    "d1 = BankAccount(\"Dev\",1200)\n",
    "r2 = BankAccount(\"Rupa\",2000)\n",
    "\n",
    "d1.withdraw(600)\n",
    "r2.deposit(5000)\n",
    "d1.deposit(2000)\n",
    "r2.withdraw(2000)"
   ]
  },
  {
   "cell_type": "code",
   "execution_count": null,
   "metadata": {},
   "outputs": [],
   "source": []
  }
 ],
 "metadata": {
  "kernelspec": {
   "display_name": "Python 3",
   "language": "python",
   "name": "python3"
  },
  "language_info": {
   "codemirror_mode": {
    "name": "ipython",
    "version": 3
   },
   "file_extension": ".py",
   "mimetype": "text/x-python",
   "name": "python",
   "nbconvert_exporter": "python",
   "pygments_lexer": "ipython3",
   "version": "3.7.4-final"
  }
 },
 "nbformat": 4,
 "nbformat_minor": 2
}