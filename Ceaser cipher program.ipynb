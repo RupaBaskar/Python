{
 "cells": [
  {
   "cell_type": "markdown",
   "metadata": {},
   "source": [
    "Ceaser cipher program"
   ]
  },
  {
   "cell_type": "code",
   "execution_count": 9,
   "metadata": {},
   "outputs": [
    {
     "name": "stdout",
     "output_type": "stream",
     "text": [
      "The encrypted  text is: ['c', 'd', 'e']\n"
     ]
    }
   ],
   "source": [
    "def cease_encrypt(real_txt, shift):\n",
    "    \n",
    "    output_txt = []\n",
    "    encrypt_txt = []\n",
    "    \n",
    "    uppercase = ['A', 'B', 'C', 'D', 'E', 'F', 'G', 'H', 'I', 'J', 'K', 'L', 'M', 'N', 'O', 'P', 'Q', 'R', 'S', 'T', 'U', 'V', 'W', 'X', 'Y', 'Z']\n",
    "    lowercase = ['a', 'b', 'c', 'd', 'e', 'f', 'g', 'h', 'i', 'j', 'k', 'l', 'm', 'n', 'o', 'p', 'q', 'r', 's', 't', 'u', 'v', 'w', 'x', 'y', 'z']\n",
    "    \n",
    "    for letter in real_txt:\n",
    "        if letter in uppercase:\n",
    "            index = uppercase.index(letter)\n",
    "            crypting = (index+shift) % 26\n",
    "            encrypt_txt.append(crypting)\n",
    "            new_letter = uppercase[crypting]\n",
    "            output_txt.append(new_letter)\n",
    "            \n",
    "        elif letter in lowercase:\n",
    "            index=lowercase.index(letter)\n",
    "            crypting = (index+shift) % 26\n",
    "            encrypt_txt.append(crypting)\n",
    "            new_letter=lowercase[crypting]\n",
    "            output_txt.append(new_letter)\n",
    "            \n",
    "    return output_txt\n",
    "\n",
    "code = cease_encrypt('abc', 2)\n",
    "\n",
    "print(\"The encrypted  text is:\", code)\n",
    "\n",
    "\n",
    "  "
   ]
  },
  {
   "cell_type": "code",
   "execution_count": null,
   "metadata": {},
   "outputs": [],
   "source": []
  },
  {
   "cell_type": "code",
   "execution_count": null,
   "metadata": {},
   "outputs": [],
   "source": []
  },
  {
   "cell_type": "code",
   "execution_count": null,
   "metadata": {},
   "outputs": [],
   "source": []
  }
 ],
 "metadata": {
  "kernelspec": {
   "display_name": "Python 3",
   "language": "python",
   "name": "python3"
  },
  "language_info": {
   "codemirror_mode": {
    "name": "ipython",
    "version": 3
   },
   "file_extension": ".py",
   "mimetype": "text/x-python",
   "name": "python",
   "nbconvert_exporter": "python",
   "pygments_lexer": "ipython3",
   "version": "3.7.4"
  }
 },
 "nbformat": 4,
 "nbformat_minor": 2
}
