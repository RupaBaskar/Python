{
 "cells": [
  {
   "cell_type": "markdown",
   "metadata": {},
   "source": [
    "#Roy wants to change his profile picture on Facebook. Now Facebook has some restriction over the dimension of picture that we can upload. Minimum dimension of the picture can be L x L, where L is the length of the side of square.\n",
    "\n",
    "Now Roy has N photos of various dimensions. Dimension of a photo is denoted as W x H where W - width of the photo and H - Height of the photo\n",
    "\n",
    "When any photo is uploaded following events may occur:\n",
    "\n",
    "[1] If any of the width or height is less than L, user is prompted to upload another one. Print \"UPLOAD ANOTHER\" in this case. [2] If width and height, both are large enough and (a) if the photo is already square then it is accepted. Print \"ACCEPTED\" in this case. (b) else user is prompted to crop it. Print \"CROP IT\" in this case.\n",
    "\n",
    "(quotes are only for clarification)\n",
    "\n",
    "Given L, N, W and H as input, print appropriate text as output.\n",
    "\n",
    "Input: First line contains L. Second line contains N, number of photos. Following N lines each contains two space separated integers W and H.\n",
    "\n",
    "Output: Print appropriate text for each photo in a new line.\n",
    "\n",
    "Constraints: 1 <= L,W,H <= 10000 1 <= N <= 1000"
   ]
  },
  {
   "cell_type": "code",
   "execution_count": 2,
   "metadata": {},
   "outputs": [
    {
     "name": "stdout",
     "output_type": "stream",
     "text": [
      "Number of photos you want to upload: 56\n",
      "Please enter the size of photo which can be uploaded: 25\n",
      "Size of the photo which can uploaded is 25\n",
      "Please enter the width of photo which can be uploaded: 32\n",
      "Please enter the height of photo which can be uploaded: 33\n",
      "CROP IT\n"
     ]
    }
   ],
   "source": [
    "def get_n_value():\n",
    "    n = int(input(\"Number of photos you want to upload: \"))\n",
    "    if(n >= 1 and n <= 1000):\n",
    "        return n\n",
    "    else:\n",
    "        return get_n_value()\n",
    "\n",
    "def get_l_value():\n",
    "    l = int(input(\"Please enter the size of photo which can be uploaded: \"))\n",
    "    if(l >= 1 and l <= 10000):\n",
    "        return l\n",
    "    else:\n",
    "        return get_l_value()\n",
    "\n",
    "\n",
    "def get_w_value():\n",
    "    w = int(input(\"Please enter the width of photo which can be uploaded: \"))\n",
    "    if(w >= 1 and w <= 10000):\n",
    "        return w\n",
    "    else:\n",
    "        return get_w_value()\n",
    "\n",
    "def get_h_value():\n",
    "    h = int(input(\"Please enter the height of photo which can be uploaded: \"))\n",
    "    if(h >= 1 and h <= 10000):\n",
    "        return h\n",
    "    else:\n",
    "        return get_h_value()\n",
    "\n",
    "n = get_n_value()\n",
    "l = get_l_value()\n",
    "\n",
    "print(\"Size of the photo which can uploaded is \" + str(l))\n",
    "\n",
    "count = 0\n",
    "\n",
    "while(count < n):\n",
    "    count += 1;\n",
    "    w = get_w_value()\n",
    "    h = get_h_value()\n",
    "    if(w >= l and h >= l):\n",
    "        if(w == h):\n",
    "            print(\"Accepted the photo\")\n",
    "            break\n",
    "        else:\n",
    "            print(\"CROP IT\")\n",
    "            break\n",
    "    else:\n",
    "        print(\"UPLOAD ANOTHER\")\n"
   ]
  },
  {
   "cell_type": "code",
   "execution_count": null,
   "metadata": {},
   "outputs": [],
   "source": []
  }
 ],
 "metadata": {
  "kernelspec": {
   "display_name": "Python 3",
   "language": "python",
   "name": "python3"
  },
  "language_info": {
   "codemirror_mode": {
    "name": "ipython",
    "version": 3
   },
   "file_extension": ".py",
   "mimetype": "text/x-python",
   "name": "python",
   "nbconvert_exporter": "python",
   "pygments_lexer": "ipython3",
   "version": "3.7.4"
  }
 },
 "nbformat": 4,
 "nbformat_minor": 2
}
