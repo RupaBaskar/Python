{
 "cells": [
  {
   "cell_type": "markdown",
   "metadata": {},
   "source": [
    "Write a program to identify [1,1,5] in the given list in the same order, if yes print “it's a Match” if no then print “it's Gone”\n",
    "Example - \n",
    "Listy = [1,5,6,4,1,2,3,5] - it's a Match\n",
    "Listy = [1,5,6,5,1,2,3,6] - it's Gone"
   ]
  },
  {
   "cell_type": "code",
   "execution_count": 1,
   "metadata": {},
   "outputs": [
    {
     "name": "stdout",
     "output_type": "stream",
     "text": [
      "Enter the list length: 8\n",
      "Enter the numbers: \n",
      "1\n",
      "2\n",
      "3\n",
      "1\n",
      "5\n",
      "6\n",
      "7\n",
      "8\n",
      "input list -  [1, 2, 3, 1, 5, 6, 7, 8]\n",
      "It's a Match\n"
     ]
    }
   ],
   "source": [
    "pattern = [1,1,5]\n",
    "\n",
    "input_list=[]\n",
    "number=int(input(\"Enter the list length: \"))\n",
    "print(\"Enter the numbers: \")\n",
    "\n",
    "for i in range(number):\n",
    "    data=int(input())\n",
    "    input_list.append(data)\n",
    "\n",
    "print(\"input list - \", input_list)\n",
    "\n",
    "total_count = len(pattern)\n",
    "current_count = 0\n",
    "\n",
    "for item in input_list:\n",
    "    if(pattern[current_count] == item):\n",
    "        current_count += 1\n",
    "    if(current_count == total_count):\n",
    "        break\n",
    "\n",
    "if(current_count == total_count):\n",
    "    print(\"It's a Match\")\n",
    "else:\n",
    "    print(\"It's Gone\")"
   ]
  },
  {
   "cell_type": "code",
   "execution_count": null,
   "metadata": {},
   "outputs": [],
   "source": []
  }
 ],
 "metadata": {
  "kernelspec": {
   "display_name": "Python 3",
   "language": "python",
   "name": "python3"
  },
  "language_info": {
   "codemirror_mode": {
    "name": "ipython",
    "version": 3
   },
   "file_extension": ".py",
   "mimetype": "text/x-python",
   "name": "python",
   "nbconvert_exporter": "python",
   "pygments_lexer": "ipython3",
   "version": "3.7.4"
  }
 },
 "nbformat": 4,
 "nbformat_minor": 2
}
