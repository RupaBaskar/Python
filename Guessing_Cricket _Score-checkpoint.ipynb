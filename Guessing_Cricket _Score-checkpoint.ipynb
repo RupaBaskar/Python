{
 "cells": [
  {
   "cell_type": "code",
   "execution_count": 1,
   "metadata": {},
   "outputs": [
    {
     "name": "stdout",
     "output_type": "stream",
     "text": [
      "Guessing Team India Score in 20-20 Cricket\n",
      "Enter your guessing score for Team India:143\n",
      "Computer generated score is 117\n",
      "You don't watch that much!!\n"
     ]
    }
   ],
   "source": [
    "print(\"Guessing Team India Score in 20-20 Cricket\")\n",
    "import random\n",
    "score=int(input(\"Enter your guessing score for Team India:\"))\n",
    "\n",
    "if 1>=score or score>=250:\n",
    "    print(\"Reduce your expectation for 20-20 Cricket\")\n",
    "random_score=int(random.choice(range(250)))\n",
    "print(\"Computer generated score is \" + str(random_score))   \n",
    "\n",
    "if(random_score==score):\n",
    "    print(\"You are True Indian fan\")\n",
    "elif((random_score-10) >= score >= (random_score+10)):\n",
    "           print(\"Close By, you are True Indian Fan!!\")\n",
    "else :\n",
    "    print(\"You don't watch that much!!\")\n",
    "    "
   ]
  },
  {
   "cell_type": "code",
   "execution_count": null,
   "metadata": {},
   "outputs": [],
   "source": []
  }
 ],
 "metadata": {
  "kernelspec": {
   "display_name": "Python 3",
   "language": "python",
   "name": "python3"
  },
  "language_info": {
   "codemirror_mode": {
    "name": "ipython",
    "version": 3
   },
   "file_extension": ".py",
   "mimetype": "text/x-python",
   "name": "python",
   "nbconvert_exporter": "python",
   "pygments_lexer": "ipython3",
   "version": "3.7.4"
  }
 },
 "nbformat": 4,
 "nbformat_minor": 2
}
