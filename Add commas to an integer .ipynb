{
 "cells": [
  {
   "cell_type": "markdown",
   "metadata": {},
   "source": [
    "Write a function def add_commas(numbers) that will add commas to an integer and return it as a string.\n",
    "For example add_commas(1000000) will return 1,000,000 Do it first without using string fomratting\n",
    "or f strings."
   ]
  },
  {
   "cell_type": "code",
   "execution_count": 5,
   "metadata": {},
   "outputs": [
    {
     "name": "stdout",
     "output_type": "stream",
     "text": [
      "The original number is  1000000\n",
      "The number after inserting commas : 1,000,000\n"
     ]
    }
   ],
   "source": [
    "def add_commas(number):\n",
    "    \n",
    "    print(\"The original number is \", str(number))\n",
    "    result = (\"{:,}\".format(number))\n",
    "    print(\"The number after inserting commas :\", str(result))\n",
    "\n",
    "add_commas(1000000)"
   ]
  },
  {
   "cell_type": "code",
   "execution_count": null,
   "metadata": {},
   "outputs": [],
   "source": []
  },
  {
   "cell_type": "code",
   "execution_count": null,
   "metadata": {},
   "outputs": [],
   "source": []
  }
 ],
 "metadata": {
  "kernelspec": {
   "display_name": "Python 3",
   "language": "python",
   "name": "python3"
  },
  "language_info": {
   "codemirror_mode": {
    "name": "ipython",
    "version": 3
   },
   "file_extension": ".py",
   "mimetype": "text/x-python",
   "name": "python",
   "nbconvert_exporter": "python",
   "pygments_lexer": "ipython3",
   "version": "3.7.4"
  }
 },
 "nbformat": 4,
 "nbformat_minor": 2
}
